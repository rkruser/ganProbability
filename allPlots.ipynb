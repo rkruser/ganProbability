{
 "cells": [
  {
   "cell_type": "code",
   "execution_count": 25,
   "metadata": {},
   "outputs": [],
   "source": [
    "from __future__ import division\n",
    "\n",
    "import matplotlib\n",
    "#matplotlib.use('agg')\n",
    "import matplotlib.pyplot as plt\n",
    "\n",
    "import torch\n",
    "import torchvision.utils as vutils\n",
    "from scipy.io import loadmat, savemat\n",
    "import numpy as np\n",
    "import argparse\n",
    "from torch.autograd import Variable\n",
    "\n",
    "from loaders import locations, getLoaders\n",
    "from models import getModels\n",
    "\n",
    "\n",
    "def extractPercentileStats(trainProbs, testProbs):\n",
    "    sortedInds = np.argsort(np.concatenate([trainProbs, testProbs]))\n",
    "    trainTest = np.concatenate([np.ones(len(trainProbs), dtype='int'),np.zeros(len(testProbs),dtype='int')])\n",
    "    trainTest = trainTest[sortedInds]\n",
    "    cumulative = np.cumsum(trainTest)\n",
    "    testPercentiles = cumulative[trainTest==0]/float(len(trainProbs))\n",
    "    return testPercentiles\n",
    "\n",
    "def heatmap(net):\n",
    "    grid0, grid1 = np.meshgrid(np.linspace(-1.5,1.5,100),np.linspace(1.5,-1.5,100))\n",
    "    print grid0.shape, grid1.shape\n",
    "    pts = np.zeros((10000,2))\n",
    "    for i in range(100):\n",
    "        for j in range(100):\n",
    "            pts[i*100+j,:] = grid0[i,j],grid1[i,j]\n",
    "    ptsTorch = Variable(torch.from_numpy(pts.astype(np.float32)))\n",
    "    vals, logp = net.invert(ptsTorch)\n",
    "    probsNumpy = logp.data.numpy().reshape((100,100))\n",
    "  #  print probsNumpy[:5,:5]\n",
    "    transformed = np.exp(probsNumpy)\n",
    "   # transformed = probsNumpy[probsNumpy<probsNumpy.mean()]=probsNumpy.mean()\n",
    "    plt.imshow(transformed)\n",
    "    \n",
    "def hiLow(pdict, number=64, imageArray=None):\n",
    "    if imageArray is None:\n",
    "        ims = pdict['images']\n",
    "    else:\n",
    "        ims = imageArray\n",
    "        \n",
    "    probs = pdict['probs'].squeeze()\n",
    "    inds = np.argsort(probs)\n",
    "    \n",
    "    imsTop = torch.from_numpy(ims[inds[-number:]])\n",
    "    imsBot = torch.from_numpy(ims[inds[:number]])\n",
    "    \n",
    "    topGrid = vutils.make_grid(imsTop, normalize=True)\n",
    "    botGrid = vutils.make_grid(imsBot, normalize=True)\n",
    "    \n",
    "    plt.imshow(topGrid.numpy())\n",
    "    plt.imshow(botGrid.numpy())\n",
    "    \n",
    "    \n",
    "\n",
    "def percentiles():\n",
    "    pass\n"
   ]
  },
  {
   "cell_type": "code",
   "execution_count": 28,
   "metadata": {},
   "outputs": [
    {
     "name": "stdout",
     "output_type": "stream",
     "text": [
      "(100, 100) (100, 100)\n"
     ]
    },
    {
     "data": {
      "image/png": "[encoded data removed]",
      "text/plain": [
       "<matplotlib.figure.Figure at 0x7ff7c2d360d0>"
      ]
     },
     "metadata": {},
     "output_type": "display_data"
    }
   ],
   "source": [
    "net = getModels('mogNVP')[0]\n",
    "net.load_state_dict(torch.load('generated/final/mog_flowgan_mixed/netG_10.pth', lambda s,t:s))\n",
    "heatmap(net)"
   ]
  },
  {
   "cell_type": "code",
   "execution_count": null,
   "metadata": {},
   "outputs": [],
   "source": []
  }
 ],
 "metadata": {
  "kernelspec": {
   "display_name": "Python 2",
   "language": "python",
   "name": "python2"
  },
  "language_info": {
   "codemirror_mode": {
    "name": "ipython",
    "version": 2
   },
   "file_extension": ".py",
   "mimetype": "text/x-python",
   "name": "python",
   "nbconvert_exporter": "python",
   "pygments_lexer": "ipython2",
   "version": "2.7.14"
  }
 },
 "nbformat": 4,
 "nbformat_minor": 2
}
