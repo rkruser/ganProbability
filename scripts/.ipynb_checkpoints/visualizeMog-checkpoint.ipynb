{
 "cells": [
  {
   "cell_type": "code",
   "execution_count": 1,
   "metadata": {},
   "outputs": [],
   "source": [
    "import os.path as osp\n",
    "import torch\n",
    "import torch.nn as nn\n",
    "import numpy as np\n",
    "\n",
    "\n",
    "#import numpy as np\n",
    "#import matplotlib.pyplot as plt\n",
    "#%matplotlib inline\n",
    "\n",
    "#from pylab import rcParams\n",
    "#rcParams['figure.figsize'] = 10, 8\n",
    "#rcParams['figure.dpi'] = 300\n",
    "\n",
    "#import torch\n",
    "#from torch import nn\n",
    "from torch import distributions\n",
    "from torch.nn.parameter import Parameter\n",
    "from torch.autograd import Variable\n",
    "\n",
    "from mog import getRealNVP\n",
    "\n",
    "nvp = getRealNVP()\n",
    "nvp.load_state_dict(torch.load(open('realnvp_1000.pth','r')))"
   ]
  },
  {
   "cell_type": "code",
   "execution_count": 2,
   "metadata": {},
   "outputs": [
    {
     "name": "stdout",
     "output_type": "stream",
     "text": [
      "(100, 100) (100, 100)\n",
      "(10000, 2) [[-1.5         1.5       ]\n",
      " [-1.46969697  1.5       ]\n",
      " [-1.43939394  1.5       ]\n",
      " [-1.40909091  1.5       ]\n",
      " [-1.37878788  1.5       ]\n",
      " [-1.34848485  1.5       ]\n",
      " [-1.31818182  1.5       ]\n",
      " [-1.28787879  1.5       ]\n",
      " [-1.25757576  1.5       ]\n",
      " [-1.22727273  1.5       ]]\n"
     ]
    }
   ],
   "source": [
    "grid0, grid1 = np.meshgrid(np.linspace(-1.5,1.5,100),np.linspace(1.5,-1.5,100))\n",
    "print grid0.shape, grid1.shape\n",
    "pts = np.zeros((10000,2))\n",
    "for i in range(100):\n",
    "    for j in range(100):\n",
    "        pts[i*100+j,:] = grid0[i,j],grid1[i,j]\n",
    "print pts.shape, pts[:10,:]"
   ]
  },
  {
   "cell_type": "code",
   "execution_count": 3,
   "metadata": {},
   "outputs": [],
   "source": [
    "ptsTorch = Variable(torch.from_numpy(pts.astype(np.float32)))\n",
    "#print ptsTorch"
   ]
  },
  {
   "cell_type": "code",
   "execution_count": 21,
   "metadata": {
    "collapsed": true
   },
   "outputs": [
    {
     "name": "stdout",
     "output_type": "stream",
     "text": [
      "Variable containing:\n",
      "  2.1359  66.6855\n",
      "  2.2427  66.0479\n",
      "  2.3440  65.3773\n",
      "  2.4423  64.6871\n",
      "  2.5370  63.9753\n",
      "  2.6252  63.2248\n",
      "  2.7078  62.4375\n",
      "  2.7833  61.6033\n",
      "  2.8529  60.7368\n",
      "  2.9222  59.8708\n",
      "[torch.FloatTensor of size 10x2]\n",
      " Variable containing:\n",
      " 5.9132\n",
      " 5.9077\n",
      " 5.9018\n",
      " 5.8955\n",
      " 5.8889\n",
      " 5.8818\n",
      " 5.8743\n",
      " 5.8662\n",
      " 5.8575\n",
      " 5.8484\n",
      "[torch.FloatTensor of size 10]\n",
      "\n"
     ]
    }
   ],
   "source": [
    "vals, logp = nvp.f(ptsTorch)\n",
    "print vals, logp"
   ]
  },
  {
   "cell_type": "code",
   "execution_count": 39,
   "metadata": {
    "collapsed": true
   },
   "outputs": [
    {
     "name": "stdout",
     "output_type": "stream",
     "text": [
      "<type 'float'>\n",
      "Variable containing:\n",
      "-2227.5969\n",
      "-2185.5164\n",
      "-2141.6785\n",
      "-2097.0300\n",
      "-2051.4736\n",
      "-2003.9717\n",
      "-1954.7229\n",
      "-1903.1931\n",
      "-1850.3854\n",
      "-1798.3638\n",
      "[torch.FloatTensor of size 10]\n",
      "\n"
     ]
    }
   ],
   "source": [
    "#from mog import priorLogProb\n",
    "#print priorLogProb(vals)\n",
    "#print vals.size(1)\n",
    "#c = Variable(torch.Tensor(-vals.size(1)*np.log(np.sqrt(2*np.pi))))\n",
    "c = float(-vals.size(1)*np.log(np.sqrt(2*np.pi)))\n",
    "print type(c)\n",
    "print c-0.5*(vals**2).sum(dim=1)"
   ]
  },
  {
   "cell_type": "code",
   "execution_count": 4,
   "metadata": {},
   "outputs": [
    {
     "name": "stdout",
     "output_type": "stream",
     "text": [
      "<class 'torch.autograd.variable.Variable'> torch.Size([10000]) Variable containing:\n",
      "-2.0407e+03\n",
      "-2.0399e+03\n",
      "-2.0339e+03\n",
      "     ⋮     \n",
      "-6.7006e+01\n",
      "-6.7915e+01\n",
      "-6.8470e+01\n",
      "[torch.FloatTensor of size 10000]\n",
      "\n"
     ]
    }
   ],
   "source": [
    "#print \"hello\"\n",
    "probs = nvp.log_prob(ptsTorch)\n",
    "print type(probs), probs.shape, probs\n",
    "#probs = probs.numpy().reshape((100,100))"
   ]
  },
  {
   "cell_type": "code",
   "execution_count": 5,
   "metadata": {},
   "outputs": [
    {
     "name": "stdout",
     "output_type": "stream",
     "text": [
      "[[-2040.7393 -2039.9109 -2033.9093 -2022.3789 -2005.577 ]\n",
      " [-1879.126  -1884.2856 -1884.4645 -1878.1152 -1865.6824]\n",
      " [-1721.7472 -1729.2698 -1732.101  -1729.4915 -1721.6735]\n",
      " [-1571.6451 -1581.1432 -1586.2441 -1586.2904 -1581.3956]\n",
      " [-1429.6722 -1439.9276 -1447.3253 -1449.7877 -1447.5527]]\n"
     ]
    }
   ],
   "source": [
    "probsNumpy = probs.data.numpy().reshape((100,100))\n",
    "print probsNumpy[:5,:5]"
   ]
  },
  {
   "cell_type": "code",
   "execution_count": 6,
   "metadata": {},
   "outputs": [],
   "source": [
    "import matplotlib.pyplot as plt"
   ]
  },
  {
   "cell_type": "code",
   "execution_count": 7,
   "metadata": {},
   "outputs": [
    {
     "data": {
      "text/plain": [
       "<matplotlib.image.AxesImage at 0x7fbc4fed4fd0>"
      ]
     },
     "execution_count": 7,
     "metadata": {},
     "output_type": "execute_result"
    },
    {
     "data": {
      "image/png": "[encoded data removed]",
      "text/plain": [
       "<matplotlib.figure.Figure at 0x7fbc4ff72150>"
      ]
     },
     "metadata": {},
     "output_type": "display_data"
    }
   ],
   "source": [
    "#transformed = probsNumpy+np.abs(probsNumpy.min())\n",
    "#transformed = transformed / transformed.max()\n",
    "transformed = np.exp(probsNumpy)\n",
    "plt.imshow(transformed)"
   ]
  },
  {
   "cell_type": "code",
   "execution_count": null,
   "metadata": {},
   "outputs": [],
   "source": []
  }
 ],
 "metadata": {
  "kernelspec": {
   "display_name": "Python 2",
   "language": "python",
   "name": "python2"
  },
  "language_info": {
   "codemirror_mode": {
    "name": "ipython",
    "version": 2
   },
   "file_extension": ".py",
   "mimetype": "text/x-python",
   "name": "python",
   "nbconvert_exporter": "python",
   "pygments_lexer": "ipython2",
   "version": "2.7.14"
  }
 },
 "nbformat": 4,
 "nbformat_minor": 2
}
