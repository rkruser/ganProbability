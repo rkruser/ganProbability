{
 "cells": [
  {
   "cell_type": "code",
   "execution_count": 1,
   "metadata": {},
   "outputs": [],
   "source": [
    "import os.path as osp\n",
    "import torch\n",
    "import torch.nn as nn\n",
    "import numpy as np\n",
    "\n",
    "\n",
    "#import numpy as np\n",
    "#import matplotlib.pyplot as plt\n",
    "#%matplotlib inline\n",
    "\n",
    "#from pylab import rcParams\n",
    "#rcParams['figure.figsize'] = 10, 8\n",
    "#rcParams['figure.dpi'] = 300\n",
    "\n",
    "#import torch\n",
    "#from torch import nn\n",
    "from torch import distributions\n",
    "from torch.nn.parameter import Parameter\n",
    "from torch.autograd import Variable\n",
    "\n",
    "from mog import getRealNVP\n",
    "\n",
    "nvp = getRealNVP()\n",
    "nvp.load_state_dict(torch.load(open('realnvp_1000.pth','r')))"
   ]
  },
  {
   "cell_type": "code",
   "execution_count": 2,
   "metadata": {},
   "outputs": [
    {
     "name": "stdout",
     "output_type": "stream",
     "text": [
      "(100, 100) (100, 100)\n",
      "(10000, 2) [[-1.5         1.5       ]\n",
      " [-1.46969697  1.5       ]\n",
      " [-1.43939394  1.5       ]\n",
      " [-1.40909091  1.5       ]\n",
      " [-1.37878788  1.5       ]\n",
      " [-1.34848485  1.5       ]\n",
      " [-1.31818182  1.5       ]\n",
      " [-1.28787879  1.5       ]\n",
      " [-1.25757576  1.5       ]\n",
      " [-1.22727273  1.5       ]]\n"
     ]
    }
   ],
   "source": [
    "grid0, grid1 = np.meshgrid(np.linspace(-1.5,1.5,100),np.linspace(1.5,-1.5,100))\n",
    "print grid0.shape, grid1.shape\n",
    "pts = np.zeros((10000,2))\n",
    "for i in range(100):\n",
    "    for j in range(100):\n",
    "        pts[i*100+j,:] = grid0[i,j],grid1[i,j]\n",
    "print pts.shape, pts[:10,:]"
   ]
  },
  {
   "cell_type": "code",
   "execution_count": 5,
   "metadata": {},
   "outputs": [],
   "source": [
    "ptsTorch = Variable(torch.from_numpy(pts.astype(np.float32)))\n",
    "#print ptsTorch"
   ]
  },
  {
   "cell_type": "code",
   "execution_count": 21,
   "metadata": {
    "collapsed": true
   },
   "outputs": [
    {
     "name": "stdout",
     "output_type": "stream",
     "text": [
      "Variable containing:\n",
      "  2.1359  66.6855\n",
      "  2.2427  66.0479\n",
      "  2.3440  65.3773\n",
      "  2.4423  64.6871\n",
      "  2.5370  63.9753\n",
      "  2.6252  63.2248\n",
      "  2.7078  62.4375\n",
      "  2.7833  61.6033\n",
      "  2.8529  60.7368\n",
      "  2.9222  59.8708\n",
      "[torch.FloatTensor of size 10x2]\n",
      " Variable containing:\n",
      " 5.9132\n",
      " 5.9077\n",
      " 5.9018\n",
      " 5.8955\n",
      " 5.8889\n",
      " 5.8818\n",
      " 5.8743\n",
      " 5.8662\n",
      " 5.8575\n",
      " 5.8484\n",
      "[torch.FloatTensor of size 10]\n",
      "\n"
     ]
    }
   ],
   "source": [
    "vals, logp = nvp.f(ptsTorch)\n",
    "print vals, logp"
   ]
  },
  {
   "cell_type": "code",
   "execution_count": 39,
   "metadata": {
    "collapsed": true
   },
   "outputs": [
    {
     "name": "stdout",
     "output_type": "stream",
     "text": [
      "<type 'float'>\n",
      "Variable containing:\n",
      "-2227.5969\n",
      "-2185.5164\n",
      "-2141.6785\n",
      "-2097.0300\n",
      "-2051.4736\n",
      "-2003.9717\n",
      "-1954.7229\n",
      "-1903.1931\n",
      "-1850.3854\n",
      "-1798.3638\n",
      "[torch.FloatTensor of size 10]\n",
      "\n"
     ]
    }
   ],
   "source": [
    "#from mog import priorLogProb\n",
    "#print priorLogProb(vals)\n",
    "#print vals.size(1)\n",
    "#c = Variable(torch.Tensor(-vals.size(1)*np.log(np.sqrt(2*np.pi))))\n",
    "c = float(-vals.size(1)*np.log(np.sqrt(2*np.pi)))\n",
    "print type(c)\n",
    "print c-0.5*(vals**2).sum(dim=1)"
   ]
  },
  {
   "cell_type": "code",
   "execution_count": 6,
   "metadata": {},
   "outputs": [
    {
     "name": "stdout",
     "output_type": "stream",
     "text": [
      "<class 'torch.autograd.variable.Variable'> torch.Size([10000]) Variable containing:\n",
      "-2.2217e+03\n",
      "-2.1796e+03\n",
      "-2.1358e+03\n",
      "     ⋮     \n",
      "-8.8436e+02\n",
      "-9.0204e+02\n",
      "-9.1954e+02\n",
      "[torch.FloatTensor of size 10000]\n",
      "\n"
     ]
    }
   ],
   "source": [
    "#print \"hello\"\n",
    "probs = nvp.log_prob(ptsTorch)\n",
    "print type(probs), probs.shape, probs\n",
    "#probs = probs.numpy().reshape((100,100))"
   ]
  },
  {
   "cell_type": "code",
   "execution_count": 7,
   "metadata": {},
   "outputs": [
    {
     "name": "stdout",
     "output_type": "stream",
     "text": [
      "[[-2221.6838 -2179.6086 -2135.7766 -2091.1345 -2045.5847]\n",
      " [-2113.1714 -2072.7397 -2030.6223 -1987.6753 -1943.8557]\n",
      " [-2006.6631 -1967.8772 -1927.416  -1886.2051 -1844.222 ]\n",
      " [-1902.0822 -1864.8911 -1826.1514 -1786.6985 -1746.3887]\n",
      " [-1799.6849 -1764.166  -1727.0999 -1689.2155 -1650.5538]]\n"
     ]
    }
   ],
   "source": [
    "probsNumpy = probs.data.numpy().reshape((100,100))\n",
    "print probsNumpy[:5,:5]"
   ]
  },
  {
   "cell_type": "code",
   "execution_count": 8,
   "metadata": {},
   "outputs": [],
   "source": [
    "import matplotlib.pyplot as plt"
   ]
  },
  {
   "cell_type": "code",
   "execution_count": 11,
   "metadata": {},
   "outputs": [
    {
     "data": {
      "text/plain": [
       "<matplotlib.image.AxesImage at 0x7f1e996e9e10>"
      ]
     },
     "execution_count": 11,
     "metadata": {},
     "output_type": "execute_result"
    },
    {
     "data": {
      "image/png": "[encoded data removed]",
      "text/plain": [
       "<matplotlib.figure.Figure at 0x7f1e9975c550>"
      ]
     },
     "metadata": {},
     "output_type": "display_data"
    }
   ],
   "source": [
    "#transformed = probsNumpy+np.abs(probsNumpy.min())\n",
    "#transformed = transformed / transformed.max()\n",
    "transformed = np.exp(probsNumpy)\n",
    "plt.imshow(transformed)"
   ]
  },
  {
   "cell_type": "code",
   "execution_count": null,
   "metadata": {},
   "outputs": [],
   "source": []
  }
 ],
 "metadata": {
  "kernelspec": {
   "display_name": "Python 2",
   "language": "python",
   "name": "python2"
  },
  "language_info": {
   "codemirror_mode": {
    "name": "ipython",
    "version": 2
   },
   "file_extension": ".py",
   "mimetype": "text/x-python",
   "name": "python",
   "nbconvert_exporter": "python",
   "pygments_lexer": "ipython2",
   "version": "2.7.14"
  }
 },
 "nbformat": 4,
 "nbformat_minor": 2
}
