{
 "cells": [
  {
   "cell_type": "code",
   "execution_count": 11,
   "metadata": {},
   "outputs": [
    {
     "ename": "ImportError",
     "evalue": "No module named sohil.LoadGAN",
     "output_type": "error",
     "traceback": [
      "\u001b[0;31m---------------------------------------------------------------------------\u001b[0m",
      "\u001b[0;31mImportError\u001b[0m                               Traceback (most recent call last)",
      "\u001b[0;32m<ipython-input-11-0cd7ebc86e38>\u001b[0m in \u001b[0;36m<module>\u001b[0;34m()\u001b[0m\n\u001b[1;32m     12\u001b[0m \u001b[0;31m#print sys.path\u001b[0m\u001b[0;34m\u001b[0m\u001b[0;34m\u001b[0m\u001b[0m\n\u001b[1;32m     13\u001b[0m \u001b[0msys\u001b[0m\u001b[0;34m.\u001b[0m\u001b[0mpath\u001b[0m\u001b[0;34m.\u001b[0m\u001b[0mappend\u001b[0m\u001b[0;34m(\u001b[0m\u001b[0mosp\u001b[0m\u001b[0;34m.\u001b[0m\u001b[0mabspath\u001b[0m\u001b[0;34m(\u001b[0m\u001b[0;34m'..'\u001b[0m\u001b[0;34m)\u001b[0m\u001b[0;34m)\u001b[0m\u001b[0;34m\u001b[0m\u001b[0m\n\u001b[0;32m---> 14\u001b[0;31m \u001b[0;32mimport\u001b[0m \u001b[0mgetOperators\u001b[0m\u001b[0;34m\u001b[0m\u001b[0m\n\u001b[0m\u001b[1;32m     15\u001b[0m \u001b[0;34m\u001b[0m\u001b[0m\n\u001b[1;32m     16\u001b[0m \u001b[0;32mimport\u001b[0m \u001b[0mtorch\u001b[0m\u001b[0;34m\u001b[0m\u001b[0m\n",
      "\u001b[0;32m/fs/vulcan-scratch/krusinga/projects/ganProbability/getOperators.py\u001b[0m in \u001b[0;36m<module>\u001b[0;34m()\u001b[0m\n\u001b[0;32m----> 1\u001b[0;31m \u001b[0;32mfrom\u001b[0m \u001b[0mcode\u001b[0m\u001b[0;34m.\u001b[0m\u001b[0msohil\u001b[0m\u001b[0;34m.\u001b[0m\u001b[0mLoadGAN\u001b[0m \u001b[0;32mimport\u001b[0m \u001b[0mLoadGAN\u001b[0m\u001b[0;34m\u001b[0m\u001b[0m\n\u001b[0m\u001b[1;32m      2\u001b[0m \u001b[0;32mfrom\u001b[0m \u001b[0mcode\u001b[0m\u001b[0;34m.\u001b[0m\u001b[0msohil\u001b[0m\u001b[0;34m.\u001b[0m\u001b[0mTrainGAN\u001b[0m \u001b[0;32mimport\u001b[0m \u001b[0mTrainGAN\u001b[0m\u001b[0;34m\u001b[0m\u001b[0m\n\u001b[1;32m      3\u001b[0m \u001b[0;32mfrom\u001b[0m \u001b[0mcode\u001b[0m\u001b[0;34m.\u001b[0m\u001b[0msohil\u001b[0m\u001b[0;34m.\u001b[0m\u001b[0mSampleGAN\u001b[0m \u001b[0;32mimport\u001b[0m \u001b[0mSampleGAN\u001b[0m\u001b[0;34m\u001b[0m\u001b[0m\n\u001b[1;32m      4\u001b[0m \u001b[0;32mfrom\u001b[0m \u001b[0mcode\u001b[0m\u001b[0;34m.\u001b[0m\u001b[0msohil\u001b[0m\u001b[0;34m.\u001b[0m\u001b[0mMergeSamples\u001b[0m \u001b[0;32mimport\u001b[0m \u001b[0mZipSamples\u001b[0m\u001b[0;34m\u001b[0m\u001b[0m\n\u001b[1;32m      5\u001b[0m \u001b[0;32mfrom\u001b[0m \u001b[0mcode\u001b[0m\u001b[0;34m.\u001b[0m\u001b[0msohil\u001b[0m\u001b[0;34m.\u001b[0m\u001b[0mRegressorTraining\u001b[0m \u001b[0;32mimport\u001b[0m \u001b[0mRegressorTraining\u001b[0m\u001b[0;34m\u001b[0m\u001b[0m\n",
      "\u001b[0;31mImportError\u001b[0m: No module named sohil.LoadGAN"
     ]
    }
   ],
   "source": [
    "import matplotlib\n",
    "#matplotlib.use('agg')\n",
    "import matplotlib.pyplot as plt\n",
    "import numpy as np\n",
    "from scipy.io import loadmat\n",
    "import pickle\n",
    "from PIL import Image\n",
    "import os.path as osp\n",
    "import sys\n",
    "#sys.path.append('..')\n",
    "#print os.listdir('.')\n",
    "#print sys.path\n",
    "#sys.path.append(osp.abspath('..'))\n",
    "#import getOperators\n",
    "\n",
    "import torch\n",
    "\n",
    "from mlworkflow import FileManager\n",
    "#from code.total.getOperators import mapDict as Modules"
   ]
  },
  {
   "cell_type": "code",
   "execution_count": 6,
   "metadata": {},
   "outputs": [],
   "source": [
    "#prefix = '/fs/vulcan-scratch/krusinga/projects/ganProbability/generated/canonical/DCGAN/MNIST/size32_3'\n",
    "masterpath = '/fs/vulcan-scratch/krusinga/projects/ganProbability/master.yaml'\n",
    "currentExperiment = 64\n",
    "files = FileManager(masterpath, currentExperiment = currentExperiment)"
   ]
  },
  {
   "cell_type": "code",
   "execution_count": null,
   "metadata": {},
   "outputs": [],
   "source": [
    "mnist32loader = Modules['MNIST32Size32Cols1']({'name':'MNIST32', 'fileManager':files, 'dependencies':[]},{})\n",
    "numericalPixelRegressor = Modules['RegressorSize32Col3']({'name':'NumericalPixels',\n",
    "                                                          'fileManager':files,\n",
    "                                                          'dependencies':[]},\n",
    "                                                         {'netPkey':'reg_mnist_32_3_numerical_pixel'})\n",
    "numericalDeepRegressor = Modules['RegressorSize32Col3']({'name':'NumericalDeep',\n",
    "                                                          'fileManager':files,\n",
    "                                                          'dependencies':[]},\n",
    "                                                         {'netPkey':'reg_mnist_32_3_numerical_deep'})\n",
    "lenet = Modules['LenetSize32Cols3']({'name':'lenetMnist32',\n",
    "                                        'fileManager':files,\n",
    "                                        'dependencies':[]},\n",
    "                                        {'lenetKey':'deep_mnist_32_3'})"
   ]
  },
  {
   "cell_type": "code",
   "execution_count": null,
   "metadata": {},
   "outputs": [],
   "source": []
  }
 ],
 "metadata": {
  "kernelspec": {
   "display_name": "Python 2",
   "language": "python",
   "name": "python2"
  },
  "language_info": {
   "codemirror_mode": {
    "name": "ipython",
    "version": 2
   },
   "file_extension": ".py",
   "mimetype": "text/x-python",
   "name": "python",
   "nbconvert_exporter": "python",
   "pygments_lexer": "ipython2",
   "version": "2.7.14"
  }
 },
 "nbformat": 4,
 "nbformat_minor": 2
}
