{
 "cells": [
  {
   "cell_type": "code",
   "execution_count": 1,
   "metadata": {},
   "outputs": [],
   "source": [
    "import matplotlib\n",
    "#matplotlib.use('agg')\n",
    "import matplotlib.pyplot as plt\n",
    "import numpy as np\n",
    "from scipy.io import loadmat\n",
    "import pickle\n",
    "from PIL import Image"
   ]
  },
  {
   "cell_type": "code",
   "execution_count": 2,
   "metadata": {},
   "outputs": [
    {
     "name": "stderr",
     "output_type": "stream",
     "text": [
      "/fs/vulcan-scratch/krusinga/projects/template/mlworkflow/defaults.py:5: UserWarning: \n",
      "This call to matplotlib.use() has no effect because the backend has already\n",
      "been chosen; matplotlib.use() must be called *before* pylab, matplotlib.pyplot,\n",
      "or matplotlib.backends is imported for the first time.\n",
      "\n",
      "The backend was *originally* set to 'module://ipykernel.pylab.backend_inline' by the following code:\n",
      "  File \"/fs/vulcan-scratch/krusinga/anaconda2/lib/python2.7/runpy.py\", line 174, in _run_module_as_main\n",
      "    \"__main__\", fname, loader, pkg_name)\n",
      "  File \"/fs/vulcan-scratch/krusinga/anaconda2/lib/python2.7/runpy.py\", line 72, in _run_code\n",
      "    exec code in run_globals\n",
      "  File \"/fs/vulcan-scratch/krusinga/anaconda2/lib/python2.7/site-packages/ipykernel_launcher.py\", line 16, in <module>\n",
      "    app.launch_new_instance()\n",
      "  File \"/fs/vulcan-scratch/krusinga/anaconda2/lib/python2.7/site-packages/traitlets/config/application.py\", line 658, in launch_instance\n",
      "    app.start()\n",
      "  File \"/fs/vulcan-scratch/krusinga/anaconda2/lib/python2.7/site-packages/ipykernel/kernelapp.py\", line 478, in start\n",
      "    self.io_loop.start()\n",
      "  File \"/fs/vulcan-scratch/krusinga/anaconda2/lib/python2.7/site-packages/zmq/eventloop/ioloop.py\", line 177, in start\n",
      "    super(ZMQIOLoop, self).start()\n",
      "  File \"/fs/vulcan-scratch/krusinga/anaconda2/lib/python2.7/site-packages/tornado/ioloop.py\", line 888, in start\n",
      "    handler_func(fd_obj, events)\n",
      "  File \"/fs/vulcan-scratch/krusinga/anaconda2/lib/python2.7/site-packages/tornado/stack_context.py\", line 277, in null_wrapper\n",
      "    return fn(*args, **kwargs)\n",
      "  File \"/fs/vulcan-scratch/krusinga/anaconda2/lib/python2.7/site-packages/zmq/eventloop/zmqstream.py\", line 440, in _handle_events\n",
      "    self._handle_recv()\n",
      "  File \"/fs/vulcan-scratch/krusinga/anaconda2/lib/python2.7/site-packages/zmq/eventloop/zmqstream.py\", line 472, in _handle_recv\n",
      "    self._run_callback(callback, msg)\n",
      "  File \"/fs/vulcan-scratch/krusinga/anaconda2/lib/python2.7/site-packages/zmq/eventloop/zmqstream.py\", line 414, in _run_callback\n",
      "    callback(*args, **kwargs)\n",
      "  File \"/fs/vulcan-scratch/krusinga/anaconda2/lib/python2.7/site-packages/tornado/stack_context.py\", line 277, in null_wrapper\n",
      "    return fn(*args, **kwargs)\n",
      "  File \"/fs/vulcan-scratch/krusinga/anaconda2/lib/python2.7/site-packages/ipykernel/kernelbase.py\", line 283, in dispatcher\n",
      "    return self.dispatch_shell(stream, msg)\n",
      "  File \"/fs/vulcan-scratch/krusinga/anaconda2/lib/python2.7/site-packages/ipykernel/kernelbase.py\", line 233, in dispatch_shell\n",
      "    handler(stream, idents, msg)\n",
      "  File \"/fs/vulcan-scratch/krusinga/anaconda2/lib/python2.7/site-packages/ipykernel/kernelbase.py\", line 399, in execute_request\n",
      "    user_expressions, allow_stdin)\n",
      "  File \"/fs/vulcan-scratch/krusinga/anaconda2/lib/python2.7/site-packages/ipykernel/ipkernel.py\", line 208, in do_execute\n",
      "    res = shell.run_cell(code, store_history=store_history, silent=silent)\n",
      "  File \"/fs/vulcan-scratch/krusinga/anaconda2/lib/python2.7/site-packages/ipykernel/zmqshell.py\", line 537, in run_cell\n",
      "    return super(ZMQInteractiveShell, self).run_cell(*args, **kwargs)\n",
      "  File \"/fs/vulcan-scratch/krusinga/anaconda2/lib/python2.7/site-packages/IPython/core/interactiveshell.py\", line 2728, in run_cell\n",
      "    self.events.trigger('post_run_cell')\n",
      "  File \"/fs/vulcan-scratch/krusinga/anaconda2/lib/python2.7/site-packages/IPython/core/events.py\", line 74, in trigger\n",
      "    func(*args, **kwargs)\n",
      "  File \"/fs/vulcan-scratch/krusinga/anaconda2/lib/python2.7/site-packages/ipykernel/pylab/backend_inline.py\", line 160, in configure_once\n",
      "    activate_matplotlib(backend)\n",
      "  File \"/fs/vulcan-scratch/krusinga/anaconda2/lib/python2.7/site-packages/IPython/core/pylabtools.py\", line 308, in activate_matplotlib\n",
      "    matplotlib.pyplot.switch_backend(backend)\n",
      "  File \"/fs/vulcan-scratch/krusinga/anaconda2/lib/python2.7/site-packages/matplotlib/pyplot.py\", line 232, in switch_backend\n",
      "    matplotlib.use(newbackend, warn=False, force=True)\n",
      "  File \"/fs/vulcan-scratch/krusinga/anaconda2/lib/python2.7/site-packages/matplotlib/__init__.py\", line 1305, in use\n",
      "    reload(sys.modules['matplotlib.backends'])\n",
      "  File \"/fs/vulcan-scratch/krusinga/anaconda2/lib/python2.7/site-packages/matplotlib/backends/__init__.py\", line 14, in <module>\n",
      "    line for line in traceback.format_stack()\n",
      "\n",
      "\n",
      "  matplotlib.use('agg') #Import for plotting through ssh\n"
     ]
    }
   ],
   "source": [
    "a = pickle.load(open('../experiments/e61/analysis/lossCurve.pickle'))"
   ]
  },
  {
   "cell_type": "code",
   "execution_count": 3,
   "metadata": {},
   "outputs": [
    {
     "data": {
      "text/plain": [
       "<mlworkflow.Data at 0x7f7aa38d6210>"
      ]
     },
     "execution_count": 3,
     "metadata": {},
     "output_type": "execute_result"
    }
   ],
   "source": [
    "a"
   ]
  },
  {
   "cell_type": "code",
   "execution_count": 4,
   "metadata": {},
   "outputs": [
    {
     "data": {
      "text/plain": [
       "{'data': array([[ 0.        ,  1.        ,  2.        ,  3.        ,  4.        ,\n",
       "          5.        ,  6.        ,  7.        ,  8.        ,  9.        ,\n",
       "         10.        , 11.        , 12.        , 13.        , 14.        ,\n",
       "         15.        , 16.        , 17.        , 18.        , 19.        ,\n",
       "         20.        , 21.        , 22.        , 23.        , 24.        ],\n",
       "        [11.1237053 ,  8.03981872,  7.41447716,  7.0891751 ,  6.885807  ,\n",
       "          6.67144027,  6.56219547,  6.40036809,  6.2808194 ,  6.1891309 ,\n",
       "          6.1460093 ,  6.01821377,  5.9280341 ,  5.85568681,  5.78496286,\n",
       "          5.73070151,  5.65685186,  5.60271495,  5.57819903,  5.47162874,\n",
       "          5.41150002,  5.40435736,  5.31294413,  5.24434993,  5.21838821],\n",
       "        [ 8.77317872, 45.03650316, 10.06834103,  8.54513679,  9.49975333,\n",
       "         36.82135829, 29.94829133, 22.62698722, 13.5924178 , 53.25410745,\n",
       "         23.26634731, 10.63075437,  6.57770551, 69.61638312, 25.15857318,\n",
       "          8.23614544, 26.62835902, 19.54888938, 23.67136152, 41.21503469,\n",
       "         27.49701824, 21.58907314, 28.56776021, 12.2403604 ,  9.60000536]]),\n",
       " 'format': 'png',\n",
       " 'legend': ['Train Loss', 'Test Loss'],\n",
       " 'legendLoc': 'upper right',\n",
       " 'title': 'Train/Test loss curve',\n",
       " 'xlabel': 'Epoch',\n",
       " 'ylabel': 'Loss'}"
      ]
     },
     "execution_count": 4,
     "metadata": {},
     "output_type": "execute_result"
    }
   ],
   "source": [
    "a.data"
   ]
  },
  {
   "cell_type": "code",
   "execution_count": 5,
   "metadata": {},
   "outputs": [
    {
     "data": {
      "image/png": "[encoded data removed]",
      "text/plain": [
       "<matplotlib.figure.Figure at 0x7f7a728d9d90>"
      ]
     },
     "metadata": {},
     "output_type": "display_data"
    }
   ],
   "source": [
    "plt.plot(a.data['data'][0], a.data['data'][1])\n",
    "plt.show()"
   ]
  },
  {
   "cell_type": "code",
   "execution_count": null,
   "metadata": {},
   "outputs": [],
   "source": []
  }
 ],
 "metadata": {
  "kernelspec": {
   "display_name": "Python 2",
   "language": "python",
   "name": "python2"
  },
  "language_info": {
   "codemirror_mode": {
    "name": "ipython",
    "version": 2
   },
   "file_extension": ".py",
   "mimetype": "text/x-python",
   "name": "python",
   "nbconvert_exporter": "python",
   "pygments_lexer": "ipython2",
   "version": "2.7.14"
  }
 },
 "nbformat": 4,
 "nbformat_minor": 2
}
